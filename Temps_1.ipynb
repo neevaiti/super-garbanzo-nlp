{
 "cells": [
  {
   "cell_type": "code",
   "execution_count": 112,
   "metadata": {},
   "outputs": [],
   "source": [
    "import pandas as pd\n",
    "import nltk\n",
    "from nltk.corpus import stopwords\n",
    "from string import punctuation\n",
    "from nltk.tokenize import word_tokenize\n",
    "from random import randint"
   ]
  },
  {
   "cell_type": "code",
   "execution_count": 113,
   "metadata": {},
   "outputs": [
    {
     "name": "stderr",
     "output_type": "stream",
     "text": [
      "[nltk_data] Downloading package stopwords to\n",
      "[nltk_data]     /Users/maximer/nltk_data...\n",
      "[nltk_data]   Package stopwords is already up-to-date!\n",
      "[nltk_data] Downloading package punkt to /Users/maximer/nltk_data...\n",
      "[nltk_data]   Package punkt is already up-to-date!\n"
     ]
    },
    {
     "data": {
      "text/plain": [
       "179"
      ]
     },
     "execution_count": 113,
     "metadata": {},
     "output_type": "execute_result"
    }
   ],
   "source": [
    "nltk.download(\"stopwords\")\n",
    "nltk.download(\"punkt\")\n",
    "stopwords_en = stopwords.words(\"english\")\n",
    "len(stopwords_en)"
   ]
  },
  {
   "cell_type": "code",
   "execution_count": 114,
   "metadata": {},
   "outputs": [
    {
     "name": "stdout",
     "output_type": "stream",
     "text": [
      "['i', 'me', 'my', 'myself', 'we', 'our', 'ours', 'ourselves', 'you', \"you're\", \"you've\", \"you'll\", \"you'd\", 'your', 'yours', 'yourself', 'yourselves', 'he', 'him', 'his', 'himself', 'she', \"she's\", 'her', 'hers', 'herself', 'it', \"it's\", 'its', 'itself', 'they', 'them', 'their', 'theirs', 'themselves', 'what', 'which', 'who', 'whom', 'this', 'that', \"that'll\", 'these', 'those', 'am', 'is', 'are', 'was', 'were', 'be', 'been', 'being', 'have', 'has', 'had', 'having', 'do', 'does', 'did', 'doing', 'a', 'an', 'the', 'and', 'but', 'if', 'or', 'because', 'as', 'until', 'while', 'of', 'at', 'by', 'for', 'with', 'about', 'against', 'between', 'into', 'through', 'during', 'before', 'after', 'above', 'below', 'to', 'from', 'up', 'down', 'in', 'out', 'on', 'off', 'over', 'under', 'again', 'further', 'then', 'once', 'here', 'there', 'when', 'where', 'why', 'how', 'all', 'any', 'both', 'each', 'few', 'more', 'most', 'other', 'some', 'such', 'no', 'nor', 'not', 'only', 'own', 'same', 'so', 'than', 'too', 'very', 's', 't', 'can', 'will', 'just', 'don', \"don't\", 'should', \"should've\", 'now', 'd', 'll', 'm', 'o', 're', 've', 'y', 'ain', 'aren', \"aren't\", 'couldn', \"couldn't\", 'didn', \"didn't\", 'doesn', \"doesn't\", 'hadn', \"hadn't\", 'hasn', \"hasn't\", 'haven', \"haven't\", 'isn', \"isn't\", 'ma', 'mightn', \"mightn't\", 'mustn', \"mustn't\", 'needn', \"needn't\", 'shan', \"shan't\", 'shouldn', \"shouldn't\", 'wasn', \"wasn't\", 'weren', \"weren't\", 'won', \"won't\", 'wouldn', \"wouldn't\"]\n"
     ]
    }
   ],
   "source": [
    "print(stopwords_en)"
   ]
  },
  {
   "cell_type": "code",
   "execution_count": null,
   "metadata": {},
   "outputs": [],
   "source": []
  },
  {
   "cell_type": "code",
   "execution_count": 115,
   "metadata": {},
   "outputs": [
    {
     "data": {
      "text/html": [
       "<div>\n",
       "<style scoped>\n",
       "    .dataframe tbody tr th:only-of-type {\n",
       "        vertical-align: middle;\n",
       "    }\n",
       "\n",
       "    .dataframe tbody tr th {\n",
       "        vertical-align: top;\n",
       "    }\n",
       "\n",
       "    .dataframe thead th {\n",
       "        text-align: right;\n",
       "    }\n",
       "</style>\n",
       "<table border=\"1\" class=\"dataframe\">\n",
       "  <thead>\n",
       "    <tr style=\"text-align: right;\">\n",
       "      <th></th>\n",
       "      <th>Text</th>\n",
       "      <th>Emotion</th>\n",
       "    </tr>\n",
       "  </thead>\n",
       "  <tbody>\n",
       "    <tr>\n",
       "      <th>0</th>\n",
       "      <td>i didnt feel humiliated</td>\n",
       "      <td>sadness</td>\n",
       "    </tr>\n",
       "    <tr>\n",
       "      <th>1</th>\n",
       "      <td>i can go from feeling so hopeless to so damned...</td>\n",
       "      <td>sadness</td>\n",
       "    </tr>\n",
       "    <tr>\n",
       "      <th>2</th>\n",
       "      <td>im grabbing a minute to post i feel greedy wrong</td>\n",
       "      <td>anger</td>\n",
       "    </tr>\n",
       "    <tr>\n",
       "      <th>3</th>\n",
       "      <td>i am ever feeling nostalgic about the fireplac...</td>\n",
       "      <td>love</td>\n",
       "    </tr>\n",
       "    <tr>\n",
       "      <th>4</th>\n",
       "      <td>i am feeling grouchy</td>\n",
       "      <td>anger</td>\n",
       "    </tr>\n",
       "  </tbody>\n",
       "</table>\n",
       "</div>"
      ],
      "text/plain": [
       "                                                Text  Emotion\n",
       "0                            i didnt feel humiliated  sadness\n",
       "1  i can go from feeling so hopeless to so damned...  sadness\n",
       "2   im grabbing a minute to post i feel greedy wrong    anger\n",
       "3  i am ever feeling nostalgic about the fireplac...     love\n",
       "4                               i am feeling grouchy    anger"
      ]
     },
     "execution_count": 115,
     "metadata": {},
     "output_type": "execute_result"
    }
   ],
   "source": [
    "df = pd.read_csv('src/emotions.csv')\n",
    "df.head()"
   ]
  },
  {
   "cell_type": "code",
   "execution_count": 116,
   "metadata": {},
   "outputs": [
    {
     "data": {
      "text/plain": [
       "<Axes: >"
      ]
     },
     "execution_count": 116,
     "metadata": {},
     "output_type": "execute_result"
    },
    {
     "data": {
      "image/png": "[encoded data removed]",
      "text/plain": [
       "<Figure size 640x480 with 1 Axes>"
      ]
     },
     "metadata": {},
     "output_type": "display_data"
    }
   ],
   "source": [
    "df.Emotion.value_counts().plot.bar()"
   ]
  },
  {
   "cell_type": "code",
   "execution_count": 117,
   "metadata": {},
   "outputs": [
    {
     "data": {
      "text/plain": [
       "('i also know how good it feels to look back and see that i honored my word and that helps from the start',\n",
       " 'happy')"
      ]
     },
     "execution_count": 117,
     "metadata": {},
     "output_type": "execute_result"
    }
   ],
   "source": [
    "rand = randint(0,1000)\n",
    "example_sentence = df.loc[rand,\"Text\"]\n",
    "example_emotion = df.loc[rand, \"Emotion\"]\n",
    "example_sentence, example_emotion"
   ]
  },
  {
   "cell_type": "code",
   "execution_count": 118,
   "metadata": {},
   "outputs": [],
   "source": [
    "def clean_tokenize(sentence):\n",
    "    tokens = word_tokenize(sentence)\n",
    "    final = []\n",
    "    for t in tokens:\n",
    "        t=t.lower()\n",
    "        if t not in stopwords_en and t not in punctuation:\n",
    "            final.append(t) \n",
    "    return final\n"
   ]
  },
  {
   "cell_type": "code",
   "execution_count": 119,
   "metadata": {},
   "outputs": [],
   "source": [
    "df[\"Tokens\"] = df[\"Text\"].apply(clean_tokenize)"
   ]
  },
  {
   "cell_type": "code",
   "execution_count": 120,
   "metadata": {},
   "outputs": [
    {
     "data": {
      "text/html": [
       "<div>\n",
       "<style scoped>\n",
       "    .dataframe tbody tr th:only-of-type {\n",
       "        vertical-align: middle;\n",
       "    }\n",
       "\n",
       "    .dataframe tbody tr th {\n",
       "        vertical-align: top;\n",
       "    }\n",
       "\n",
       "    .dataframe thead th {\n",
       "        text-align: right;\n",
       "    }\n",
       "</style>\n",
       "<table border=\"1\" class=\"dataframe\">\n",
       "  <thead>\n",
       "    <tr style=\"text-align: right;\">\n",
       "      <th></th>\n",
       "      <th>Text</th>\n",
       "      <th>Emotion</th>\n",
       "      <th>Tokens</th>\n",
       "    </tr>\n",
       "  </thead>\n",
       "  <tbody>\n",
       "    <tr>\n",
       "      <th>413</th>\n",
       "      <td>i really want to go buy some yardage of art ga...</td>\n",
       "      <td>surprise</td>\n",
       "      <td>[really, want, go, buy, yardage, art, gallery,...</td>\n",
       "    </tr>\n",
       "    <tr>\n",
       "      <th>11804</th>\n",
       "      <td>i feel distracted and its sometimes hard to ta...</td>\n",
       "      <td>anger</td>\n",
       "      <td>[feel, distracted, sometimes, hard, talk, god,...</td>\n",
       "    </tr>\n",
       "    <tr>\n",
       "      <th>5826</th>\n",
       "      <td>im feeling totally lame for not posting anythi...</td>\n",
       "      <td>sadness</td>\n",
       "      <td>[im, feeling, totally, lame, posting, anything...</td>\n",
       "    </tr>\n",
       "    <tr>\n",
       "      <th>17964</th>\n",
       "      <td>i was feeling disheartened when going on dates...</td>\n",
       "      <td>sadness</td>\n",
       "      <td>[feeling, disheartened, going, dates, feel, me...</td>\n",
       "    </tr>\n",
       "    <tr>\n",
       "      <th>8735</th>\n",
       "      <td>im ready to start my shots again that two and ...</td>\n",
       "      <td>sadness</td>\n",
       "      <td>[im, ready, start, shots, two, half, weeks, fl...</td>\n",
       "    </tr>\n",
       "  </tbody>\n",
       "</table>\n",
       "</div>"
      ],
      "text/plain": [
       "                                                    Text   Emotion  \\\n",
       "413    i really want to go buy some yardage of art ga...  surprise   \n",
       "11804  i feel distracted and its sometimes hard to ta...     anger   \n",
       "5826   im feeling totally lame for not posting anythi...   sadness   \n",
       "17964  i was feeling disheartened when going on dates...   sadness   \n",
       "8735   im ready to start my shots again that two and ...   sadness   \n",
       "\n",
       "                                                  Tokens  \n",
       "413    [really, want, go, buy, yardage, art, gallery,...  \n",
       "11804  [feel, distracted, sometimes, hard, talk, god,...  \n",
       "5826   [im, feeling, totally, lame, posting, anything...  \n",
       "17964  [feeling, disheartened, going, dates, feel, me...  \n",
       "8735   [im, ready, start, shots, two, half, weeks, fl...  "
      ]
     },
     "execution_count": 120,
     "metadata": {},
     "output_type": "execute_result"
    }
   ],
   "source": [
    "df.sample(5)"
   ]
  },
  {
   "cell_type": "code",
   "execution_count": 121,
   "metadata": {},
   "outputs": [],
   "source": [
    "df_gb = df.groupby(by=\"Emotion\")"
   ]
  },
  {
   "cell_type": "code",
   "execution_count": 122,
   "metadata": {},
   "outputs": [
    {
     "data": {
      "text/plain": [
       "{'anger': [('feel', 1803),\n",
       "  ('feeling', 923),\n",
       "  ('like', 479),\n",
       "  ('im', 426),\n",
       "  ('really', 171),\n",
       "  ('get', 154),\n",
       "  ('people', 150),\n",
       "  ('know', 149),\n",
       "  ('time', 146),\n",
       "  ('little', 136),\n",
       "  ('want', 129),\n",
       "  ('even', 125),\n",
       "  ('would', 118),\n",
       "  ('angry', 116),\n",
       "  ('think', 111),\n",
       "  ('one', 108),\n",
       "  ('could', 108),\n",
       "  ('things', 105),\n",
       "  ('bit', 103),\n",
       "  ('way', 102),\n",
       "  ('offended', 92),\n",
       "  ('dont', 91),\n",
       "  ('resentful', 87),\n",
       "  ('cold', 86),\n",
       "  ('still', 85),\n",
       "  ('something', 85),\n",
       "  ('irritable', 84),\n",
       "  ('cant', 83),\n",
       "  ('going', 81),\n",
       "  ('bothered', 81)],\n",
       " 'fear': [('feel', 1483),\n",
       "  ('feeling', 926),\n",
       "  ('im', 383),\n",
       "  ('like', 322),\n",
       "  ('little', 194),\n",
       "  ('bit', 143),\n",
       "  ('know', 139),\n",
       "  ('really', 129),\n",
       "  ('anxious', 126),\n",
       "  ('time', 119),\n",
       "  ('still', 119),\n",
       "  ('people', 106),\n",
       "  ('one', 104),\n",
       "  ('nervous', 103),\n",
       "  ('get', 98),\n",
       "  ('want', 95),\n",
       "  ('would', 94),\n",
       "  ('strange', 92),\n",
       "  ('terrified', 89),\n",
       "  ('think', 89),\n",
       "  ('going', 89),\n",
       "  ('ive', 85),\n",
       "  ('afraid', 85),\n",
       "  ('agitated', 84),\n",
       "  ('scared', 83),\n",
       "  ('frightened', 82),\n",
       "  ('go', 81),\n",
       "  ('weird', 79),\n",
       "  ('things', 77),\n",
       "  ('unsure', 75)],\n",
       " 'happy': [('feel', 4948),\n",
       "  ('feeling', 1956),\n",
       "  ('like', 1266),\n",
       "  ('im', 1007),\n",
       "  ('really', 381),\n",
       "  ('time', 370),\n",
       "  ('know', 323),\n",
       "  ('get', 311),\n",
       "  ('make', 276),\n",
       "  ('people', 266),\n",
       "  ('would', 265),\n",
       "  ('one', 253),\n",
       "  ('want', 250),\n",
       "  ('good', 246),\n",
       "  ('something', 244),\n",
       "  ('little', 240),\n",
       "  ('think', 239),\n",
       "  ('pretty', 236),\n",
       "  ('life', 235),\n",
       "  ('much', 235),\n",
       "  ('love', 231),\n",
       "  ('even', 223),\n",
       "  ('going', 219),\n",
       "  ('ive', 216),\n",
       "  ('happy', 212),\n",
       "  ('could', 206),\n",
       "  ('day', 206),\n",
       "  ('still', 201),\n",
       "  ('well', 187),\n",
       "  ('dont', 181)],\n",
       " 'love': [('feel', 1180),\n",
       "  ('feeling', 471),\n",
       "  ('like', 393),\n",
       "  ('im', 251),\n",
       "  ('love', 119),\n",
       "  ('really', 112),\n",
       "  ('know', 101),\n",
       "  ('sweet', 84),\n",
       "  ('loving', 82),\n",
       "  ('time', 82),\n",
       "  ('want', 80),\n",
       "  ('people', 80),\n",
       "  ('caring', 78),\n",
       "  ('passionate', 75),\n",
       "  ('one', 74),\n",
       "  ('sympathetic', 72),\n",
       "  ('life', 71),\n",
       "  ('liked', 70),\n",
       "  ('get', 69),\n",
       "  ('hot', 68),\n",
       "  ('little', 67),\n",
       "  ('feelings', 66),\n",
       "  ('tender', 64),\n",
       "  ('lovely', 63),\n",
       "  ('longing', 63),\n",
       "  ('loved', 62),\n",
       "  ('would', 62),\n",
       "  ('need', 61),\n",
       "  ('accepted', 60),\n",
       "  ('nostalgic', 59)],\n",
       " 'sadness': [('feel', 4095),\n",
       "  ('feeling', 1924),\n",
       "  ('like', 1078),\n",
       "  ('im', 875),\n",
       "  ('really', 352),\n",
       "  ('know', 344),\n",
       "  ('get', 289),\n",
       "  ('would', 273),\n",
       "  ('time', 270),\n",
       "  ('little', 267),\n",
       "  ('ive', 266),\n",
       "  ('still', 243),\n",
       "  ('even', 239),\n",
       "  ('want', 237),\n",
       "  ('one', 230),\n",
       "  ('life', 228),\n",
       "  ('people', 226),\n",
       "  ('think', 222),\n",
       "  ('bit', 220),\n",
       "  ('things', 194),\n",
       "  ('much', 191),\n",
       "  ('dont', 190),\n",
       "  ('make', 183),\n",
       "  ('day', 177),\n",
       "  ('something', 170),\n",
       "  ('back', 167),\n",
       "  ('going', 164),\n",
       "  ('way', 162),\n",
       "  ('could', 159),\n",
       "  ('pretty', 146)],\n",
       " 'surprise': [('feel', 464),\n",
       "  ('feeling', 261),\n",
       "  ('like', 121),\n",
       "  ('im', 113),\n",
       "  ('amazed', 83),\n",
       "  ('impressed', 72),\n",
       "  ('curious', 72),\n",
       "  ('overwhelmed', 69),\n",
       "  ('funny', 68),\n",
       "  ('surprised', 68),\n",
       "  ('weird', 67),\n",
       "  ('strange', 60),\n",
       "  ('amazing', 56),\n",
       "  ('really', 56),\n",
       "  ('little', 56),\n",
       "  ('shocked', 54),\n",
       "  ('still', 52),\n",
       "  ('time', 44),\n",
       "  ('stunned', 43),\n",
       "  ('dazed', 43),\n",
       "  ('bit', 40),\n",
       "  ('people', 37),\n",
       "  ('would', 35),\n",
       "  ('know', 35),\n",
       "  ('think', 33),\n",
       "  ('one', 30),\n",
       "  ('feels', 30),\n",
       "  ('much', 29),\n",
       "  ('could', 28),\n",
       "  ('life', 26)]}"
      ]
     },
     "execution_count": 122,
     "metadata": {},
     "output_type": "execute_result"
    }
   ],
   "source": [
    "from collections import Counter\n",
    "\n",
    "most_commons = {}\n",
    "\n",
    "for emotion, group in df_gb:\n",
    "    # Liste les listes de tokens selon \"Emotion\"\n",
    "    tokens_list = group['Tokens'].tolist()\n",
    "\n",
    "    # Crée une seule grande liste contenant tous les mots pour chaque emotion\n",
    "    all_tokens = [token for sublist in tokens_list for token in sublist]\n",
    "\n",
    "    #Compte les mots et repertorie les 30 + utilisés\n",
    "    word_counts = Counter(all_tokens)\n",
    "    most_common_words = word_counts.most_common(30)\n",
    "\n",
    "    # Range dans un dictionnaire qui prend l'emotion en clé et qui stocke une liste de 30 tuples\n",
    "    # pour les 30 mots les + utilisés et leur fréquence\n",
    "    most_commons[emotion] = most_common_words\n",
    "\n",
    "most_commons"
   ]
  }
 ],
 "metadata": {
  "kernelspec": {
   "display_name": "nlp-env",
   "language": "python",
   "name": "python3"
  },
  "language_info": {
   "codemirror_mode": {
    "name": "ipython",
    "version": 3
   },
   "file_extension": ".py",
   "mimetype": "text/x-python",
   "name": "python",
   "nbconvert_exporter": "python",
   "pygments_lexer": "ipython3",
   "version": "3.9.16"
  },
  "orig_nbformat": 4
 },
 "nbformat": 4,
 "nbformat_minor": 2
}
