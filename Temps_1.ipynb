{
 "cells": [
  {
   "attachments": {},
   "cell_type": "markdown",
   "metadata": {},
   "source": [
    "# Initialisation"
   ]
  },
  {
   "cell_type": "code",
   "execution_count": 282,
   "metadata": {},
   "outputs": [],
   "source": [
    "import pandas as pd\n",
    "import nltk\n",
    "from nltk.corpus import stopwords\n",
    "from string import punctuation\n",
    "from nltk.tokenize import word_tokenize\n",
    "from random import randint\n",
    "from collections import Counter\n",
    "import pandas as pd\n",
    "from sklearn.metrics.pairwise import cosine_similarity\n",
    "import seaborn as sns\n",
    "import matplotlib.pyplot as plt"
   ]
  },
  {
   "cell_type": "code",
   "execution_count": 283,
   "metadata": {},
   "outputs": [
    {
     "name": "stderr",
     "output_type": "stream",
     "text": [
      "[nltk_data] Downloading package stopwords to\n",
      "[nltk_data]     /Users/maximer/nltk_data...\n",
      "[nltk_data]   Package stopwords is already up-to-date!\n",
      "[nltk_data] Downloading package punkt to /Users/maximer/nltk_data...\n",
      "[nltk_data]   Package punkt is already up-to-date!\n"
     ]
    }
   ],
   "source": [
    "nltk.download(\"stopwords\")\n",
    "nltk.download(\"punkt\")\n",
    "stopwords_en = stopwords.words(\"english\")"
   ]
  },
  {
   "cell_type": "code",
   "execution_count": 284,
   "metadata": {},
   "outputs": [
    {
     "name": "stdout",
     "output_type": "stream",
     "text": [
      "179 ['i', 'me', 'my', 'myself', 'we', 'our', 'ours', 'ourselves', 'you', \"you're\", \"you've\", \"you'll\", \"you'd\", 'your', 'yours', 'yourself', 'yourselves', 'he', 'him', 'his', 'himself', 'she', \"she's\", 'her', 'hers', 'herself', 'it', \"it's\", 'its', 'itself', 'they', 'them', 'their', 'theirs', 'themselves', 'what', 'which', 'who', 'whom', 'this', 'that', \"that'll\", 'these', 'those', 'am', 'is', 'are', 'was', 'were', 'be', 'been', 'being', 'have', 'has', 'had', 'having', 'do', 'does', 'did', 'doing', 'a', 'an', 'the', 'and', 'but', 'if', 'or', 'because', 'as', 'until', 'while', 'of', 'at', 'by', 'for', 'with', 'about', 'against', 'between', 'into', 'through', 'during', 'before', 'after', 'above', 'below', 'to', 'from', 'up', 'down', 'in', 'out', 'on', 'off', 'over', 'under', 'again', 'further', 'then', 'once', 'here', 'there', 'when', 'where', 'why', 'how', 'all', 'any', 'both', 'each', 'few', 'more', 'most', 'other', 'some', 'such', 'no', 'nor', 'not', 'only', 'own', 'same', 'so', 'than', 'too', 'very', 's', 't', 'can', 'will', 'just', 'don', \"don't\", 'should', \"should've\", 'now', 'd', 'll', 'm', 'o', 're', 've', 'y', 'ain', 'aren', \"aren't\", 'couldn', \"couldn't\", 'didn', \"didn't\", 'doesn', \"doesn't\", 'hadn', \"hadn't\", 'hasn', \"hasn't\", 'haven', \"haven't\", 'isn', \"isn't\", 'ma', 'mightn', \"mightn't\", 'mustn', \"mustn't\", 'needn', \"needn't\", 'shan', \"shan't\", 'shouldn', \"shouldn't\", 'wasn', \"wasn't\", 'weren', \"weren't\", 'won', \"won't\", 'wouldn', \"wouldn't\"]\n"
     ]
    }
   ],
   "source": [
    "print(len(stopwords_en),stopwords_en)"
   ]
  },
  {
   "cell_type": "code",
   "execution_count": 285,
   "metadata": {},
   "outputs": [],
   "source": [
    "df = pd.read_csv('src/emotions.csv')"
   ]
  },
  {
   "cell_type": "code",
   "execution_count": 286,
   "metadata": {},
   "outputs": [
    {
     "data": {
      "text/plain": [
       "<Axes: >"
      ]
     },
     "execution_count": 286,
     "metadata": {},
     "output_type": "execute_result"
    },
    {
     "data": {
      "image/png": "[encoded data removed]",
      "text/plain": [
       "<Figure size 640x480 with 1 Axes>"
      ]
     },
     "metadata": {},
     "output_type": "display_data"
    }
   ],
   "source": [
    "df.Emotion.value_counts().plot.bar()"
   ]
  },
  {
   "cell_type": "code",
   "execution_count": 287,
   "metadata": {},
   "outputs": [
    {
     "data": {
      "text/plain": [
       "('i feel hated and not wanted but just be an ignored', 'sadness')"
      ]
     },
     "execution_count": 287,
     "metadata": {},
     "output_type": "execute_result"
    }
   ],
   "source": [
    "rand = randint(0,1000)\n",
    "example_sentence = df.loc[rand,\"Text\"]\n",
    "example_emotion = df.loc[rand, \"Emotion\"]\n",
    "example_sentence, example_emotion"
   ]
  },
  {
   "cell_type": "code",
   "execution_count": 288,
   "metadata": {},
   "outputs": [],
   "source": [
    "def clean_tokenize(sentence):\n",
    "    tokens = word_tokenize(sentence)\n",
    "    final = []\n",
    "    for t in tokens:\n",
    "        t=t.lower()\n",
    "        if t not in stopwords_en and t not in punctuation:\n",
    "            final.append(t) \n",
    "    return final\n"
   ]
  },
  {
   "cell_type": "code",
   "execution_count": 289,
   "metadata": {},
   "outputs": [],
   "source": [
    "df[\"Tokens\"] = df[\"Text\"].apply(clean_tokenize)"
   ]
  },
  {
   "cell_type": "code",
   "execution_count": 290,
   "metadata": {},
   "outputs": [
    {
     "data": {
      "text/html": [
       "<div>\n",
       "<style scoped>\n",
       "    .dataframe tbody tr th:only-of-type {\n",
       "        vertical-align: middle;\n",
       "    }\n",
       "\n",
       "    .dataframe tbody tr th {\n",
       "        vertical-align: top;\n",
       "    }\n",
       "\n",
       "    .dataframe thead th {\n",
       "        text-align: right;\n",
       "    }\n",
       "</style>\n",
       "<table border=\"1\" class=\"dataframe\">\n",
       "  <thead>\n",
       "    <tr style=\"text-align: right;\">\n",
       "      <th></th>\n",
       "      <th>Text</th>\n",
       "      <th>Emotion</th>\n",
       "      <th>Tokens</th>\n",
       "    </tr>\n",
       "  </thead>\n",
       "  <tbody>\n",
       "    <tr>\n",
       "      <th>0</th>\n",
       "      <td>i didnt feel humiliated</td>\n",
       "      <td>sadness</td>\n",
       "      <td>[didnt, feel, humiliated]</td>\n",
       "    </tr>\n",
       "    <tr>\n",
       "      <th>1</th>\n",
       "      <td>i can go from feeling so hopeless to so damned...</td>\n",
       "      <td>sadness</td>\n",
       "      <td>[go, feeling, hopeless, damned, hopeful, aroun...</td>\n",
       "    </tr>\n",
       "    <tr>\n",
       "      <th>2</th>\n",
       "      <td>im grabbing a minute to post i feel greedy wrong</td>\n",
       "      <td>anger</td>\n",
       "      <td>[im, grabbing, minute, post, feel, greedy, wrong]</td>\n",
       "    </tr>\n",
       "    <tr>\n",
       "      <th>3</th>\n",
       "      <td>i am ever feeling nostalgic about the fireplac...</td>\n",
       "      <td>love</td>\n",
       "      <td>[ever, feeling, nostalgic, fireplace, know, st...</td>\n",
       "    </tr>\n",
       "    <tr>\n",
       "      <th>4</th>\n",
       "      <td>i am feeling grouchy</td>\n",
       "      <td>anger</td>\n",
       "      <td>[feeling, grouchy]</td>\n",
       "    </tr>\n",
       "  </tbody>\n",
       "</table>\n",
       "</div>"
      ],
      "text/plain": [
       "                                                Text  Emotion  \\\n",
       "0                            i didnt feel humiliated  sadness   \n",
       "1  i can go from feeling so hopeless to so damned...  sadness   \n",
       "2   im grabbing a minute to post i feel greedy wrong    anger   \n",
       "3  i am ever feeling nostalgic about the fireplac...     love   \n",
       "4                               i am feeling grouchy    anger   \n",
       "\n",
       "                                              Tokens  \n",
       "0                          [didnt, feel, humiliated]  \n",
       "1  [go, feeling, hopeless, damned, hopeful, aroun...  \n",
       "2  [im, grabbing, minute, post, feel, greedy, wrong]  \n",
       "3  [ever, feeling, nostalgic, fireplace, know, st...  \n",
       "4                                 [feeling, grouchy]  "
      ]
     },
     "execution_count": 290,
     "metadata": {},
     "output_type": "execute_result"
    }
   ],
   "source": [
    "df.head()"
   ]
  },
  {
   "cell_type": "code",
   "execution_count": 291,
   "metadata": {},
   "outputs": [],
   "source": [
    "df_gb = df.groupby(by=\"Emotion\")"
   ]
  },
  {
   "cell_type": "code",
   "execution_count": 292,
   "metadata": {},
   "outputs": [],
   "source": [
    "most_commons = {}\n",
    "\n",
    "for emotion, group in df_gb:\n",
    "    # Liste les listes de tokens selon \"Emotion\"\n",
    "    tokens_list = group['Tokens'].tolist()\n",
    "\n",
    "    # Crée une seule grande liste contenant tous les mots pour chaque emotion\n",
    "    all_tokens = [token for sublist in tokens_list for token in sublist]\n",
    "\n",
    "    #Compte les mots et repertorie les 30 + utilisés\n",
    "    word_counts = Counter(all_tokens)\n",
    "    most_common_words = word_counts.most_common(30)\n",
    "\n",
    "    # Range dans un dictionnaire qui prend l'emotion en clé et qui stocke une liste de 30 tuples\n",
    "    # pour les 30 mots les + utilisés et leur fréquence\n",
    "    most_commons[emotion] = most_common_words\n",
    "\n",
    "\n",
    "top_30_words = {}\n",
    "for key, value in most_commons.items():\n",
    "    words = [t[0] for t in value]\n",
    "    top_30_words[key] = words\n"
   ]
  },
  {
   "cell_type": "code",
   "execution_count": 293,
   "metadata": {},
   "outputs": [
    {
     "name": "stdout",
     "output_type": "stream",
     "text": [
      "Unexpected exception formatting exception. Falling back to standard exception\n"
     ]
    },
    {
     "name": "stderr",
     "output_type": "stream",
     "text": [
      "Traceback (most recent call last):\n",
      "  File \"/Users/maximer/miniconda3/envs/nlp-env/lib/python3.9/site-packages/IPython/core/interactiveshell.py\", line 3508, in run_code\n",
      "    exec(code_obj, self.user_global_ns, self.user_ns)\n",
      "  File \"/var/folders/yb/w38bgb0s78z_myxhwyh3_by80000gn/T/ipykernel_63505/4189747389.py\", line 10, in <module>\n",
      "    similarity_matrix = cosine_similarity(df_transposed)\n",
      "  File \"/Users/maximer/miniconda3/envs/nlp-env/lib/python3.9/site-packages/sklearn/utils/_param_validation.py\", line 211, in wrapper\n",
      "    \"\"\"Convert type into human readable string.\"\"\"\n",
      "  File \"/Users/maximer/miniconda3/envs/nlp-env/lib/python3.9/site-packages/sklearn/metrics/pairwise.py\", line 1577, in cosine_similarity\n",
      "  File \"/Users/maximer/miniconda3/envs/nlp-env/lib/python3.9/site-packages/sklearn/metrics/pairwise.py\", line 156, in check_pairwise_arrays\n",
      "    X,\n",
      "  File \"/Users/maximer/miniconda3/envs/nlp-env/lib/python3.9/site-packages/sklearn/utils/validation.py\", line 917, in check_array\n",
      "    % (array.ndim, estimator_name)\n",
      "  File \"/Users/maximer/miniconda3/envs/nlp-env/lib/python3.9/site-packages/sklearn/utils/_array_api.py\", line 380, in _asarray_with_order\n",
      "ValueError: could not convert string to float: 'feel'\n",
      "\n",
      "During handling of the above exception, another exception occurred:\n",
      "\n",
      "Traceback (most recent call last):\n",
      "  File \"/Users/maximer/miniconda3/envs/nlp-env/lib/python3.9/site-packages/IPython/core/interactiveshell.py\", line 2105, in showtraceback\n",
      "    stb = self.InteractiveTB.structured_traceback(\n",
      "  File \"/Users/maximer/miniconda3/envs/nlp-env/lib/python3.9/site-packages/IPython/core/ultratb.py\", line 1428, in structured_traceback\n",
      "    return FormattedTB.structured_traceback(\n",
      "  File \"/Users/maximer/miniconda3/envs/nlp-env/lib/python3.9/site-packages/IPython/core/ultratb.py\", line 1319, in structured_traceback\n",
      "    return VerboseTB.structured_traceback(\n",
      "  File \"/Users/maximer/miniconda3/envs/nlp-env/lib/python3.9/site-packages/IPython/core/ultratb.py\", line 1172, in structured_traceback\n",
      "    formatted_exception = self.format_exception_as_a_whole(etype, evalue, etb, number_of_lines_of_context,\n",
      "  File \"/Users/maximer/miniconda3/envs/nlp-env/lib/python3.9/site-packages/IPython/core/ultratb.py\", line 1087, in format_exception_as_a_whole\n",
      "    frames.append(self.format_record(record))\n",
      "  File \"/Users/maximer/miniconda3/envs/nlp-env/lib/python3.9/site-packages/IPython/core/ultratb.py\", line 969, in format_record\n",
      "    frame_info.lines, Colors, self.has_colors, lvals\n",
      "  File \"/Users/maximer/miniconda3/envs/nlp-env/lib/python3.9/site-packages/IPython/core/ultratb.py\", line 792, in lines\n",
      "    return self._sd.lines\n",
      "  File \"/Users/maximer/miniconda3/envs/nlp-env/lib/python3.9/site-packages/stack_data/utils.py\", line 144, in cached_property_wrapper\n",
      "    value = obj.__dict__[self.func.__name__] = self.func(obj)\n",
      "  File \"/Users/maximer/miniconda3/envs/nlp-env/lib/python3.9/site-packages/stack_data/core.py\", line 734, in lines\n",
      "    pieces = self.included_pieces\n",
      "  File \"/Users/maximer/miniconda3/envs/nlp-env/lib/python3.9/site-packages/stack_data/utils.py\", line 144, in cached_property_wrapper\n",
      "    value = obj.__dict__[self.func.__name__] = self.func(obj)\n",
      "  File \"/Users/maximer/miniconda3/envs/nlp-env/lib/python3.9/site-packages/stack_data/core.py\", line 681, in included_pieces\n",
      "    pos = scope_pieces.index(self.executing_piece)\n",
      "  File \"/Users/maximer/miniconda3/envs/nlp-env/lib/python3.9/site-packages/stack_data/utils.py\", line 144, in cached_property_wrapper\n",
      "    value = obj.__dict__[self.func.__name__] = self.func(obj)\n",
      "  File \"/Users/maximer/miniconda3/envs/nlp-env/lib/python3.9/site-packages/stack_data/core.py\", line 660, in executing_piece\n",
      "    return only(\n",
      "  File \"/Users/maximer/miniconda3/envs/nlp-env/lib/python3.9/site-packages/executing/executing.py\", line 190, in only\n",
      "    raise NotOneValueFound('Expected one value, found 0')\n",
      "executing.executing.NotOneValueFound: Expected one value, found 0\n"
     ]
    }
   ],
   "source": [
    "\n",
    "\n",
    "# Assuming you have the 'most_commons' dictionary from the previous code\n",
    "# Convert the most_commons dictionary into a DataFrame\n",
    "df_most_common = pd.DataFrame(top_30_words)\n",
    "df_most_common.head(10)\n",
    "\n",
    "# Transpose the DataFrame to have emotions as rows and words as columns\n",
    "df_transposed = df_most_common.transpose()\n",
    "\n",
    "# Calculate the similarity matrix using cosine similarity\n",
    "similarity_matrix = cosine_similarity(df_transposed)\n",
    "\n",
    "# Create a DataFrame from the similarity matrix\n",
    "similarity_df = pd.DataFrame(similarity_matrix, index=df.columns, columns=df.columns)\n",
    "\n",
    "# Create a heatmap of the similarity matrix\n",
    "plt.figure(figsize=(10, 8))\n",
    "sns.heatmap(similarity_df, annot=True, cmap=\"YlGnBu\")\n",
    "plt.title(\"Similarity Metric Heatmap\")\n",
    "plt.xlabel(\"Emotion\")\n",
    "plt.ylabel(\"Emotion\")\n",
    "plt.show()\n"
   ]
  },
  {
   "cell_type": "code",
   "execution_count": 294,
   "metadata": {},
   "outputs": [
    {
     "data": {
      "text/html": [
       "<div>\n",
       "<style scoped>\n",
       "    .dataframe tbody tr th:only-of-type {\n",
       "        vertical-align: middle;\n",
       "    }\n",
       "\n",
       "    .dataframe tbody tr th {\n",
       "        vertical-align: top;\n",
       "    }\n",
       "\n",
       "    .dataframe thead th {\n",
       "        text-align: right;\n",
       "    }\n",
       "</style>\n",
       "<table border=\"1\" class=\"dataframe\">\n",
       "  <thead>\n",
       "    <tr style=\"text-align: right;\">\n",
       "      <th></th>\n",
       "      <th>0</th>\n",
       "      <th>1</th>\n",
       "      <th>2</th>\n",
       "      <th>3</th>\n",
       "      <th>4</th>\n",
       "      <th>5</th>\n",
       "      <th>6</th>\n",
       "      <th>7</th>\n",
       "      <th>8</th>\n",
       "      <th>9</th>\n",
       "      <th>...</th>\n",
       "      <th>20</th>\n",
       "      <th>21</th>\n",
       "      <th>22</th>\n",
       "      <th>23</th>\n",
       "      <th>24</th>\n",
       "      <th>25</th>\n",
       "      <th>26</th>\n",
       "      <th>27</th>\n",
       "      <th>28</th>\n",
       "      <th>29</th>\n",
       "    </tr>\n",
       "  </thead>\n",
       "  <tbody>\n",
       "    <tr>\n",
       "      <th>anger</th>\n",
       "      <td>feel</td>\n",
       "      <td>feeling</td>\n",
       "      <td>like</td>\n",
       "      <td>im</td>\n",
       "      <td>really</td>\n",
       "      <td>get</td>\n",
       "      <td>people</td>\n",
       "      <td>know</td>\n",
       "      <td>time</td>\n",
       "      <td>little</td>\n",
       "      <td>...</td>\n",
       "      <td>offended</td>\n",
       "      <td>dont</td>\n",
       "      <td>resentful</td>\n",
       "      <td>cold</td>\n",
       "      <td>still</td>\n",
       "      <td>something</td>\n",
       "      <td>irritable</td>\n",
       "      <td>cant</td>\n",
       "      <td>going</td>\n",
       "      <td>bothered</td>\n",
       "    </tr>\n",
       "    <tr>\n",
       "      <th>fear</th>\n",
       "      <td>feel</td>\n",
       "      <td>feeling</td>\n",
       "      <td>im</td>\n",
       "      <td>like</td>\n",
       "      <td>little</td>\n",
       "      <td>bit</td>\n",
       "      <td>know</td>\n",
       "      <td>really</td>\n",
       "      <td>anxious</td>\n",
       "      <td>time</td>\n",
       "      <td>...</td>\n",
       "      <td>going</td>\n",
       "      <td>ive</td>\n",
       "      <td>afraid</td>\n",
       "      <td>agitated</td>\n",
       "      <td>scared</td>\n",
       "      <td>frightened</td>\n",
       "      <td>go</td>\n",
       "      <td>weird</td>\n",
       "      <td>things</td>\n",
       "      <td>unsure</td>\n",
       "    </tr>\n",
       "    <tr>\n",
       "      <th>happy</th>\n",
       "      <td>feel</td>\n",
       "      <td>feeling</td>\n",
       "      <td>like</td>\n",
       "      <td>im</td>\n",
       "      <td>really</td>\n",
       "      <td>time</td>\n",
       "      <td>know</td>\n",
       "      <td>get</td>\n",
       "      <td>make</td>\n",
       "      <td>people</td>\n",
       "      <td>...</td>\n",
       "      <td>love</td>\n",
       "      <td>even</td>\n",
       "      <td>going</td>\n",
       "      <td>ive</td>\n",
       "      <td>happy</td>\n",
       "      <td>could</td>\n",
       "      <td>day</td>\n",
       "      <td>still</td>\n",
       "      <td>well</td>\n",
       "      <td>dont</td>\n",
       "    </tr>\n",
       "    <tr>\n",
       "      <th>love</th>\n",
       "      <td>feel</td>\n",
       "      <td>feeling</td>\n",
       "      <td>like</td>\n",
       "      <td>im</td>\n",
       "      <td>love</td>\n",
       "      <td>really</td>\n",
       "      <td>know</td>\n",
       "      <td>sweet</td>\n",
       "      <td>loving</td>\n",
       "      <td>time</td>\n",
       "      <td>...</td>\n",
       "      <td>little</td>\n",
       "      <td>feelings</td>\n",
       "      <td>tender</td>\n",
       "      <td>lovely</td>\n",
       "      <td>longing</td>\n",
       "      <td>loved</td>\n",
       "      <td>would</td>\n",
       "      <td>need</td>\n",
       "      <td>accepted</td>\n",
       "      <td>nostalgic</td>\n",
       "    </tr>\n",
       "    <tr>\n",
       "      <th>sadness</th>\n",
       "      <td>feel</td>\n",
       "      <td>feeling</td>\n",
       "      <td>like</td>\n",
       "      <td>im</td>\n",
       "      <td>really</td>\n",
       "      <td>know</td>\n",
       "      <td>get</td>\n",
       "      <td>would</td>\n",
       "      <td>time</td>\n",
       "      <td>little</td>\n",
       "      <td>...</td>\n",
       "      <td>much</td>\n",
       "      <td>dont</td>\n",
       "      <td>make</td>\n",
       "      <td>day</td>\n",
       "      <td>something</td>\n",
       "      <td>back</td>\n",
       "      <td>going</td>\n",
       "      <td>way</td>\n",
       "      <td>could</td>\n",
       "      <td>pretty</td>\n",
       "    </tr>\n",
       "    <tr>\n",
       "      <th>surprise</th>\n",
       "      <td>feel</td>\n",
       "      <td>feeling</td>\n",
       "      <td>like</td>\n",
       "      <td>im</td>\n",
       "      <td>amazed</td>\n",
       "      <td>impressed</td>\n",
       "      <td>curious</td>\n",
       "      <td>overwhelmed</td>\n",
       "      <td>funny</td>\n",
       "      <td>surprised</td>\n",
       "      <td>...</td>\n",
       "      <td>bit</td>\n",
       "      <td>people</td>\n",
       "      <td>would</td>\n",
       "      <td>know</td>\n",
       "      <td>think</td>\n",
       "      <td>one</td>\n",
       "      <td>feels</td>\n",
       "      <td>much</td>\n",
       "      <td>could</td>\n",
       "      <td>life</td>\n",
       "    </tr>\n",
       "  </tbody>\n",
       "</table>\n",
       "<p>6 rows × 30 columns</p>\n",
       "</div>"
      ],
      "text/plain": [
       "            0        1     2     3       4          5        6            7   \\\n",
       "anger     feel  feeling  like    im  really        get   people         know   \n",
       "fear      feel  feeling    im  like  little        bit     know       really   \n",
       "happy     feel  feeling  like    im  really       time     know          get   \n",
       "love      feel  feeling  like    im    love     really     know        sweet   \n",
       "sadness   feel  feeling  like    im  really       know      get        would   \n",
       "surprise  feel  feeling  like    im  amazed  impressed  curious  overwhelmed   \n",
       "\n",
       "               8          9   ...        20        21         22        23  \\\n",
       "anger        time     little  ...  offended      dont  resentful      cold   \n",
       "fear      anxious       time  ...     going       ive     afraid  agitated   \n",
       "happy        make     people  ...      love      even      going       ive   \n",
       "love       loving       time  ...    little  feelings     tender    lovely   \n",
       "sadness      time     little  ...      much      dont       make       day   \n",
       "surprise    funny  surprised  ...       bit    people      would      know   \n",
       "\n",
       "                 24          25         26     27        28         29  \n",
       "anger         still   something  irritable   cant     going   bothered  \n",
       "fear         scared  frightened         go  weird    things     unsure  \n",
       "happy         happy       could        day  still      well       dont  \n",
       "love        longing       loved      would   need  accepted  nostalgic  \n",
       "sadness   something        back      going    way     could     pretty  \n",
       "surprise      think         one      feels   much     could       life  \n",
       "\n",
       "[6 rows x 30 columns]"
      ]
     },
     "execution_count": 294,
     "metadata": {},
     "output_type": "execute_result"
    }
   ],
   "source": [
    "df_transposed"
   ]
  }
 ],
 "metadata": {
  "kernelspec": {
   "display_name": "nlp-env",
   "language": "python",
   "name": "python3"
  },
  "language_info": {
   "codemirror_mode": {
    "name": "ipython",
    "version": 3
   },
   "file_extension": ".py",
   "mimetype": "text/x-python",
   "name": "python",
   "nbconvert_exporter": "python",
   "pygments_lexer": "ipython3",
   "version": "3.9.16"
  },
  "orig_nbformat": 4
 },
 "nbformat": 4,
 "nbformat_minor": 2
}
